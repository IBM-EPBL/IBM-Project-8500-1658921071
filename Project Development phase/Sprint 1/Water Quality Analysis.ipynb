{
 "cells": [
  {
   "cell_type": "markdown",
   "id": "98c72404",
   "metadata": {},
   "source": [
    "<h2>Importing the required packages</h2>"
   ]
  },
  {
   "cell_type": "code",
   "execution_count": 1,
   "id": "f004f6fd",
   "metadata": {},
   "outputs": [
    {
     "name": "stderr",
     "output_type": "stream",
     "text": [
      "D:\\anaconda\\lib\\site-packages\\xgboost\\compat.py:36: FutureWarning: pandas.Int64Index is deprecated and will be removed from pandas in a future version. Use pandas.Index with the appropriate dtype instead.\n",
      "  from pandas import MultiIndex, Int64Index\n"
     ]
    }
   ],
   "source": [
    "import pandas as pd\n",
    "import numpy as np\n",
    "from scipy import stats\n",
    "import matplotlib.pyplot as plt\n",
    "import seaborn as sns\n",
    "import statsmodels.api as sm\n",
    "from sklearn.model_selection import train_test_split\n",
    "from sklearn.linear_model import LinearRegression\n",
    "from sklearn.ensemble import GradientBoostingRegressor\n",
    "from sklearn.ensemble import RandomForestRegressor\n",
    "from sklearn.tree import DecisionTreeRegressor\n",
    "from sklearn.ensemble import AdaBoostRegressor\n",
    "from xgboost.sklearn import XGBRegressor\n",
    "from sklearn.metrics import mean_squared_error\n",
    "from sklearn.metrics import accuracy_score\n",
    "import warnings"
   ]
  },
  {
   "cell_type": "markdown",
   "id": "d2b3f980",
   "metadata": {},
   "source": [
    "<h3>Reading the data</h3>"
   ]
  },
  {
   "cell_type": "code",
   "execution_count": 2,
   "id": "aff04cd8",
   "metadata": {},
   "outputs": [],
   "source": [
    "data=pd.read_csv(\"C:/Users/Jothy Natarajan/Downloads/water_dataX.csv\",encoding= 'ISO-8859-1',low_memory=False)"
   ]
  },
  {
   "cell_type": "code",
   "execution_count": 3,
   "id": "bf2707d3",
   "metadata": {},
   "outputs": [
    {
     "data": {
      "text/html": [
       "<div>\n",
       "<style scoped>\n",
       "    .dataframe tbody tr th:only-of-type {\n",
       "        vertical-align: middle;\n",
       "    }\n",
       "\n",
       "    .dataframe tbody tr th {\n",
       "        vertical-align: top;\n",
       "    }\n",
       "\n",
       "    .dataframe thead th {\n",
       "        text-align: right;\n",
       "    }\n",
       "</style>\n",
       "<table border=\"1\" class=\"dataframe\">\n",
       "  <thead>\n",
       "    <tr style=\"text-align: right;\">\n",
       "      <th></th>\n",
       "      <th>STATION CODE</th>\n",
       "      <th>LOCATIONS</th>\n",
       "      <th>STATE</th>\n",
       "      <th>Temp</th>\n",
       "      <th>D.O. (mg/l)</th>\n",
       "      <th>PH</th>\n",
       "      <th>CONDUCTIVITY (µmhos/cm)</th>\n",
       "      <th>B.O.D. (mg/l)</th>\n",
       "      <th>NITRATENAN N+ NITRITENANN (mg/l)</th>\n",
       "      <th>FECAL COLIFORM (MPN/100ml)</th>\n",
       "      <th>TOTAL COLIFORM (MPN/100ml)Mean</th>\n",
       "      <th>year</th>\n",
       "    </tr>\n",
       "  </thead>\n",
       "  <tbody>\n",
       "    <tr>\n",
       "      <th>0</th>\n",
       "      <td>1393</td>\n",
       "      <td>DAMANGANGA AT D/S OF MADHUBAN, DAMAN</td>\n",
       "      <td>DAMAN &amp; DIU</td>\n",
       "      <td>30.6</td>\n",
       "      <td>6.7</td>\n",
       "      <td>7.5</td>\n",
       "      <td>203</td>\n",
       "      <td>NAN</td>\n",
       "      <td>0.1</td>\n",
       "      <td>11</td>\n",
       "      <td>27</td>\n",
       "      <td>2014</td>\n",
       "    </tr>\n",
       "    <tr>\n",
       "      <th>1</th>\n",
       "      <td>1399</td>\n",
       "      <td>ZUARI AT D/S OF PT. WHERE KUMBARJRIA CANAL JOI...</td>\n",
       "      <td>GOA</td>\n",
       "      <td>29.8</td>\n",
       "      <td>5.7</td>\n",
       "      <td>7.2</td>\n",
       "      <td>189</td>\n",
       "      <td>2</td>\n",
       "      <td>0.2</td>\n",
       "      <td>4953</td>\n",
       "      <td>8391</td>\n",
       "      <td>2014</td>\n",
       "    </tr>\n",
       "    <tr>\n",
       "      <th>2</th>\n",
       "      <td>1475</td>\n",
       "      <td>ZUARI AT PANCHAWADI</td>\n",
       "      <td>GOA</td>\n",
       "      <td>29.5</td>\n",
       "      <td>6.3</td>\n",
       "      <td>6.9</td>\n",
       "      <td>179</td>\n",
       "      <td>1.7</td>\n",
       "      <td>0.1</td>\n",
       "      <td>3243</td>\n",
       "      <td>5330</td>\n",
       "      <td>2014</td>\n",
       "    </tr>\n",
       "    <tr>\n",
       "      <th>3</th>\n",
       "      <td>3181</td>\n",
       "      <td>RIVER ZUARI AT BORIM BRIDGE</td>\n",
       "      <td>GOA</td>\n",
       "      <td>29.7</td>\n",
       "      <td>5.8</td>\n",
       "      <td>6.9</td>\n",
       "      <td>64</td>\n",
       "      <td>3.8</td>\n",
       "      <td>0.5</td>\n",
       "      <td>5382</td>\n",
       "      <td>8443</td>\n",
       "      <td>2014</td>\n",
       "    </tr>\n",
       "    <tr>\n",
       "      <th>4</th>\n",
       "      <td>3182</td>\n",
       "      <td>RIVER ZUARI AT MARCAIM JETTY</td>\n",
       "      <td>GOA</td>\n",
       "      <td>29.5</td>\n",
       "      <td>5.8</td>\n",
       "      <td>7.3</td>\n",
       "      <td>83</td>\n",
       "      <td>1.9</td>\n",
       "      <td>0.4</td>\n",
       "      <td>3428</td>\n",
       "      <td>5500</td>\n",
       "      <td>2014</td>\n",
       "    </tr>\n",
       "    <tr>\n",
       "      <th>5</th>\n",
       "      <td>1400</td>\n",
       "      <td>MANDOVI AT NEGHBOURHOOD OF PANAJI, GOA</td>\n",
       "      <td>GOA</td>\n",
       "      <td>30</td>\n",
       "      <td>5.5</td>\n",
       "      <td>7.4</td>\n",
       "      <td>81</td>\n",
       "      <td>1.5</td>\n",
       "      <td>0.1</td>\n",
       "      <td>2853</td>\n",
       "      <td>4049</td>\n",
       "      <td>2014</td>\n",
       "    </tr>\n",
       "    <tr>\n",
       "      <th>6</th>\n",
       "      <td>1476</td>\n",
       "      <td>MANDOVI AT TONCA, MARCELA, GOA</td>\n",
       "      <td>GOA</td>\n",
       "      <td>29.2</td>\n",
       "      <td>6.1</td>\n",
       "      <td>6.7</td>\n",
       "      <td>308</td>\n",
       "      <td>1.4</td>\n",
       "      <td>0.3</td>\n",
       "      <td>3355</td>\n",
       "      <td>5672</td>\n",
       "      <td>2014</td>\n",
       "    </tr>\n",
       "    <tr>\n",
       "      <th>7</th>\n",
       "      <td>3185</td>\n",
       "      <td>RIVER MANDOVI AT AMONA BRIDGE</td>\n",
       "      <td>GOA</td>\n",
       "      <td>29.6</td>\n",
       "      <td>6.4</td>\n",
       "      <td>6.7</td>\n",
       "      <td>414</td>\n",
       "      <td>1</td>\n",
       "      <td>0.2</td>\n",
       "      <td>6073</td>\n",
       "      <td>9423</td>\n",
       "      <td>2014</td>\n",
       "    </tr>\n",
       "    <tr>\n",
       "      <th>8</th>\n",
       "      <td>3186</td>\n",
       "      <td>RIVER MANDOVI AT IFFI JETTY</td>\n",
       "      <td>GOA</td>\n",
       "      <td>30</td>\n",
       "      <td>6.4</td>\n",
       "      <td>7.6</td>\n",
       "      <td>305</td>\n",
       "      <td>2.2</td>\n",
       "      <td>0.1</td>\n",
       "      <td>3478</td>\n",
       "      <td>4990</td>\n",
       "      <td>2014</td>\n",
       "    </tr>\n",
       "    <tr>\n",
       "      <th>9</th>\n",
       "      <td>3187</td>\n",
       "      <td>RIVER MANDOVI NEAR HOTEL MARRIOT</td>\n",
       "      <td>GOA</td>\n",
       "      <td>30.1</td>\n",
       "      <td>6.3</td>\n",
       "      <td>7.6</td>\n",
       "      <td>77</td>\n",
       "      <td>2.3</td>\n",
       "      <td>0.1</td>\n",
       "      <td>2606</td>\n",
       "      <td>4301</td>\n",
       "      <td>2014</td>\n",
       "    </tr>\n",
       "  </tbody>\n",
       "</table>\n",
       "</div>"
      ],
      "text/plain": [
       "  STATION CODE                                          LOCATIONS  \\\n",
       "0         1393               DAMANGANGA AT D/S OF MADHUBAN, DAMAN   \n",
       "1         1399  ZUARI AT D/S OF PT. WHERE KUMBARJRIA CANAL JOI...   \n",
       "2         1475                                ZUARI AT PANCHAWADI   \n",
       "3         3181                        RIVER ZUARI AT BORIM BRIDGE   \n",
       "4         3182                       RIVER ZUARI AT MARCAIM JETTY   \n",
       "5         1400             MANDOVI AT NEGHBOURHOOD OF PANAJI, GOA   \n",
       "6         1476                     MANDOVI AT TONCA, MARCELA, GOA   \n",
       "7         3185                      RIVER MANDOVI AT AMONA BRIDGE   \n",
       "8         3186                        RIVER MANDOVI AT IFFI JETTY   \n",
       "9         3187                   RIVER MANDOVI NEAR HOTEL MARRIOT   \n",
       "\n",
       "         STATE  Temp D.O. (mg/l)   PH CONDUCTIVITY (µmhos/cm) B.O.D. (mg/l)  \\\n",
       "0  DAMAN & DIU  30.6         6.7  7.5                     203           NAN   \n",
       "1          GOA  29.8         5.7  7.2                     189             2   \n",
       "2          GOA  29.5         6.3  6.9                     179           1.7   \n",
       "3          GOA  29.7         5.8  6.9                      64           3.8   \n",
       "4          GOA  29.5         5.8  7.3                      83           1.9   \n",
       "5          GOA    30         5.5  7.4                      81           1.5   \n",
       "6          GOA  29.2         6.1  6.7                     308           1.4   \n",
       "7          GOA  29.6         6.4  6.7                     414             1   \n",
       "8          GOA    30         6.4  7.6                     305           2.2   \n",
       "9          GOA  30.1         6.3  7.6                      77           2.3   \n",
       "\n",
       "  NITRATENAN N+ NITRITENANN (mg/l) FECAL COLIFORM (MPN/100ml)  \\\n",
       "0                              0.1                         11   \n",
       "1                              0.2                       4953   \n",
       "2                              0.1                       3243   \n",
       "3                              0.5                       5382   \n",
       "4                              0.4                       3428   \n",
       "5                              0.1                       2853   \n",
       "6                              0.3                       3355   \n",
       "7                              0.2                       6073   \n",
       "8                              0.1                       3478   \n",
       "9                              0.1                       2606   \n",
       "\n",
       "  TOTAL COLIFORM (MPN/100ml)Mean  year  \n",
       "0                             27  2014  \n",
       "1                           8391  2014  \n",
       "2                           5330  2014  \n",
       "3                           8443  2014  \n",
       "4                           5500  2014  \n",
       "5                           4049  2014  \n",
       "6                           5672  2014  \n",
       "7                           9423  2014  \n",
       "8                           4990  2014  \n",
       "9                           4301  2014  "
      ]
     },
     "execution_count": 3,
     "metadata": {},
     "output_type": "execute_result"
    }
   ],
   "source": [
    "data.head(10)"
   ]
  },
  {
   "cell_type": "markdown",
   "id": "c659b5f2",
   "metadata": {},
   "source": [
    "<h3>Data description</h3>"
   ]
  },
  {
   "cell_type": "code",
   "execution_count": 4,
   "id": "4e14a0fb",
   "metadata": {},
   "outputs": [
    {
     "name": "stdout",
     "output_type": "stream",
     "text": [
      "<class 'pandas.core.frame.DataFrame'>\n",
      "RangeIndex: 1991 entries, 0 to 1990\n",
      "Data columns (total 12 columns):\n",
      " #   Column                            Non-Null Count  Dtype \n",
      "---  ------                            --------------  ----- \n",
      " 0   STATION CODE                      1991 non-null   object\n",
      " 1   LOCATIONS                         1991 non-null   object\n",
      " 2   STATE                             1991 non-null   object\n",
      " 3   Temp                              1991 non-null   object\n",
      " 4   D.O. (mg/l)                       1991 non-null   object\n",
      " 5   PH                                1991 non-null   object\n",
      " 6   CONDUCTIVITY (µmhos/cm)           1991 non-null   object\n",
      " 7   B.O.D. (mg/l)                     1991 non-null   object\n",
      " 8   NITRATENAN N+ NITRITENANN (mg/l)  1991 non-null   object\n",
      " 9   FECAL COLIFORM (MPN/100ml)        1991 non-null   object\n",
      " 10  TOTAL COLIFORM (MPN/100ml)Mean    1991 non-null   object\n",
      " 11  year                              1991 non-null   int64 \n",
      "dtypes: int64(1), object(11)\n",
      "memory usage: 186.8+ KB\n"
     ]
    }
   ],
   "source": [
    "data.info()"
   ]
  },
  {
   "cell_type": "code",
   "execution_count": 5,
   "id": "b0d8c19f",
   "metadata": {},
   "outputs": [
    {
     "data": {
      "text/plain": [
       "(1991, 12)"
      ]
     },
     "execution_count": 5,
     "metadata": {},
     "output_type": "execute_result"
    }
   ],
   "source": [
    "data.shape"
   ]
  },
  {
   "cell_type": "code",
   "execution_count": 6,
   "id": "726752eb",
   "metadata": {},
   "outputs": [
    {
     "data": {
      "text/plain": [
       "STATION CODE                        0\n",
       "LOCATIONS                           0\n",
       "STATE                               0\n",
       "Temp                                0\n",
       "D.O. (mg/l)                         0\n",
       "PH                                  0\n",
       "CONDUCTIVITY (µmhos/cm)             0\n",
       "B.O.D. (mg/l)                       0\n",
       "NITRATENAN N+ NITRITENANN (mg/l)    0\n",
       "FECAL COLIFORM (MPN/100ml)          0\n",
       "TOTAL COLIFORM (MPN/100ml)Mean      0\n",
       "year                                0\n",
       "dtype: int64"
      ]
     },
     "execution_count": 6,
     "metadata": {},
     "output_type": "execute_result"
    }
   ],
   "source": [
    "data.isnull().sum()"
   ]
  },
  {
   "cell_type": "code",
   "execution_count": 7,
   "id": "c685a3b1",
   "metadata": {},
   "outputs": [
    {
     "data": {
      "text/plain": [
       "STATION CODE                        object\n",
       "LOCATIONS                           object\n",
       "STATE                               object\n",
       "Temp                                object\n",
       "D.O. (mg/l)                         object\n",
       "PH                                  object\n",
       "CONDUCTIVITY (µmhos/cm)             object\n",
       "B.O.D. (mg/l)                       object\n",
       "NITRATENAN N+ NITRITENANN (mg/l)    object\n",
       "FECAL COLIFORM (MPN/100ml)          object\n",
       "TOTAL COLIFORM (MPN/100ml)Mean      object\n",
       "year                                 int64\n",
       "dtype: object"
      ]
     },
     "execution_count": 7,
     "metadata": {},
     "output_type": "execute_result"
    }
   ],
   "source": [
    "data.dtypes"
   ]
  },
  {
   "cell_type": "code",
   "execution_count": 8,
   "id": "bd02c68a",
   "metadata": {},
   "outputs": [],
   "source": [
    "data['Temp']=pd.to_numeric(data['Temp'],errors='coerce')\n",
    "data['D.O. (mg/l)']=pd.to_numeric(data['D.O. (mg/l)'],errors='coerce')\n",
    "data['PH']=pd.to_numeric(data['PH'],errors='coerce')\n",
    "data['CONDUCTIVITY (µmhos/cm)']=pd.to_numeric(data['CONDUCTIVITY (µmhos/cm)'],errors='coerce')\n",
    "data['B.O.D. (mg/l)']=pd.to_numeric(data['B.O.D. (mg/l)'],errors='coerce')\n",
    "data['NITRATENAN N+ NITRITENANN (mg/l)']=pd.to_numeric(data['NITRATENAN N+ NITRITENANN (mg/l)'],errors='coerce')\n",
    "data['TOTAL COLIFORM (MPN/100ml)Mean']=pd.to_numeric(data['TOTAL COLIFORM (MPN/100ml)Mean'],errors='coerce')"
   ]
  },
  {
   "cell_type": "code",
   "execution_count": 9,
   "id": "dd27f1d1",
   "metadata": {},
   "outputs": [
    {
     "data": {
      "text/plain": [
       "STATION CODE                         object\n",
       "LOCATIONS                            object\n",
       "STATE                                object\n",
       "Temp                                float64\n",
       "D.O. (mg/l)                         float64\n",
       "PH                                  float64\n",
       "CONDUCTIVITY (µmhos/cm)             float64\n",
       "B.O.D. (mg/l)                       float64\n",
       "NITRATENAN N+ NITRITENANN (mg/l)    float64\n",
       "FECAL COLIFORM (MPN/100ml)           object\n",
       "TOTAL COLIFORM (MPN/100ml)Mean      float64\n",
       "year                                  int64\n",
       "dtype: object"
      ]
     },
     "execution_count": 9,
     "metadata": {},
     "output_type": "execute_result"
    }
   ],
   "source": [
    "data.dtypes"
   ]
  },
  {
   "cell_type": "markdown",
   "id": "c3e00ae3",
   "metadata": {},
   "source": [
    "<h3>Handling null values</h3>"
   ]
  },
  {
   "cell_type": "code",
   "execution_count": 10,
   "id": "b8100e59",
   "metadata": {},
   "outputs": [
    {
     "data": {
      "text/plain": [
       "STATION CODE                          0\n",
       "LOCATIONS                             0\n",
       "STATE                                 0\n",
       "Temp                                 92\n",
       "D.O. (mg/l)                          31\n",
       "PH                                    8\n",
       "CONDUCTIVITY (µmhos/cm)              25\n",
       "B.O.D. (mg/l)                        43\n",
       "NITRATENAN N+ NITRITENANN (mg/l)    225\n",
       "FECAL COLIFORM (MPN/100ml)            0\n",
       "TOTAL COLIFORM (MPN/100ml)Mean      132\n",
       "year                                  0\n",
       "dtype: int64"
      ]
     },
     "execution_count": 10,
     "metadata": {},
     "output_type": "execute_result"
    }
   ],
   "source": [
    "data.isnull().sum()"
   ]
  },
  {
   "cell_type": "code",
   "execution_count": 11,
   "id": "abfe5073",
   "metadata": {},
   "outputs": [],
   "source": [
    "data['Temp'].fillna(data['Temp'].mean(),inplace=True)\n",
    "data['D.O. (mg/l)'].fillna(data['D.O. (mg/l)'].mean(),inplace=True)\n",
    "data['PH'].fillna(data['PH'].mean(),inplace=True)\n",
    "data['CONDUCTIVITY (µmhos/cm)'].fillna(data['CONDUCTIVITY (µmhos/cm)'].mean(),inplace=True)\n",
    "data['B.O.D. (mg/l)'].fillna(data['B.O.D. (mg/l)'].mean(),inplace=True)\n",
    "data['NITRATENAN N+ NITRITENANN (mg/l)'].fillna(data['NITRATENAN N+ NITRITENANN (mg/l)'].mean(),inplace=True)\n",
    "data['TOTAL COLIFORM (MPN/100ml)Mean'].fillna(data['TOTAL COLIFORM (MPN/100ml)Mean'].mean(),inplace=True)"
   ]
  },
  {
   "cell_type": "code",
   "execution_count": 12,
   "id": "aa04ce99",
   "metadata": {},
   "outputs": [],
   "source": [
    "data.drop(['FECAL COLIFORM (MPN/100ml)'],axis=1,inplace=True)"
   ]
  },
  {
   "cell_type": "code",
   "execution_count": 13,
   "id": "0b94a33c",
   "metadata": {},
   "outputs": [],
   "source": [
    "data.rename(columns={'D.O. (mg/l)':'DO','CONDUCTIVITY (µmhos/cm)':'CONDUCTIVITY','B.O.D. (mg/l)':'BOD','NITRATENAN N+ NITRITENANN (mg/l)':'NITRATENAN','TOTAL COLIFORM (MPN/100ml)Mean':'TOTAL_COLIFORM'},inplace=True)"
   ]
  },
  {
   "cell_type": "code",
   "execution_count": 14,
   "id": "bcbc0916",
   "metadata": {
    "scrolled": true
   },
   "outputs": [
    {
     "name": "stdout",
     "output_type": "stream",
     "text": [
      "<class 'pandas.core.frame.DataFrame'>\n",
      "RangeIndex: 1991 entries, 0 to 1990\n",
      "Data columns (total 11 columns):\n",
      " #   Column          Non-Null Count  Dtype  \n",
      "---  ------          --------------  -----  \n",
      " 0   STATION CODE    1991 non-null   object \n",
      " 1   LOCATIONS       1991 non-null   object \n",
      " 2   STATE           1991 non-null   object \n",
      " 3   Temp            1991 non-null   float64\n",
      " 4   DO              1991 non-null   float64\n",
      " 5   PH              1991 non-null   float64\n",
      " 6   CONDUCTIVITY    1991 non-null   float64\n",
      " 7   BOD             1991 non-null   float64\n",
      " 8   NITRATENAN      1991 non-null   float64\n",
      " 9   TOTAL_COLIFORM  1991 non-null   float64\n",
      " 10  year            1991 non-null   int64  \n",
      "dtypes: float64(7), int64(1), object(3)\n",
      "memory usage: 171.2+ KB\n"
     ]
    }
   ],
   "source": [
    "data.info()"
   ]
  },
  {
   "cell_type": "markdown",
   "id": "84991df6",
   "metadata": {},
   "source": [
    "<h3>Data Preprocessing</h3>"
   ]
  },
  {
   "cell_type": "code",
   "execution_count": 15,
   "id": "1554b815",
   "metadata": {},
   "outputs": [],
   "source": [
    "data['ndo']=data.DO.apply(lambda\n",
    "x:(100 if (x>=6)\n",
    "else(80 if (6>=x>=5.1)\n",
    "else (60 if (5>=x>=4.1)\n",
    "else (40 if (4>=x>=3)\n",
    "else 0)))))"
   ]
  },
  {
   "cell_type": "code",
   "execution_count": 16,
   "id": "8e08d8c2",
   "metadata": {},
   "outputs": [],
   "source": [
    "data['npH']=data.PH.apply(lambda x: (100 if (8.5>=x>=7)\n",
    "else(80 if (8.6>=x>=8.5) or (6.9>=x>=6.8)\n",
    "else (60 if (8.8>=x>=8.6) or (6.8>=x>=6.7)\n",
    "else (40 if (9>=x>=8.8) or (6.7>=x>=6.5)\n",
    "else 0)))))"
   ]
  },
  {
   "cell_type": "code",
   "execution_count": 17,
   "id": "26a7a749",
   "metadata": {},
   "outputs": [],
   "source": [
    "data['nco']=data.TOTAL_COLIFORM.apply(lambda x: (100 if (5>=x>=0)\n",
    "else(80 if (50>=x>=5)\n",
    "else (60 if (500>=x>=50)\n",
    "else (40 if (10000>=x>=500)\n",
    "else 0)))))"
   ]
  },
  {
   "cell_type": "code",
   "execution_count": 18,
   "id": "d40213bb",
   "metadata": {},
   "outputs": [],
   "source": [
    "data['nbdo']=data.BOD.apply(lambda x:(100 if (3>=x>=0)\n",
    "else(80 if (6>=x>=3) else(60 if (80>=x>=6) else(40 if (125>=x>=80)\n",
    "else 0)))))\n",
    "\n"
   ]
  },
  {
   "cell_type": "code",
   "execution_count": 19,
   "id": "a2021c54",
   "metadata": {},
   "outputs": [],
   "source": [
    "data['nec']=data.CONDUCTIVITY.apply(lambda x: (100 if (75>=x>=0)\n",
    "else(80 if(150>=x>=75)\n",
    "else(60 if (225>=x>=150)\n",
    "else(40 if (300>=x>=225)\n",
    "else 0)))))\n"
   ]
  },
  {
   "cell_type": "code",
   "execution_count": 20,
   "id": "7064fe03",
   "metadata": {},
   "outputs": [],
   "source": [
    "data['nna']=data.NITRATENAN.apply(lambda x: (100 if (20>=x>=0)\n",
    "else(80 if (50>=x>=20)\n",
    "else(60 if (100>=x>=50) else(40 if (200>=x>=100) else 0)))))"
   ]
  },
  {
   "cell_type": "code",
   "execution_count": 21,
   "id": "1e674bb5",
   "metadata": {},
   "outputs": [
    {
     "data": {
      "text/html": [
       "<div>\n",
       "<style scoped>\n",
       "    .dataframe tbody tr th:only-of-type {\n",
       "        vertical-align: middle;\n",
       "    }\n",
       "\n",
       "    .dataframe tbody tr th {\n",
       "        vertical-align: top;\n",
       "    }\n",
       "\n",
       "    .dataframe thead th {\n",
       "        text-align: right;\n",
       "    }\n",
       "</style>\n",
       "<table border=\"1\" class=\"dataframe\">\n",
       "  <thead>\n",
       "    <tr style=\"text-align: right;\">\n",
       "      <th></th>\n",
       "      <th>STATION CODE</th>\n",
       "      <th>LOCATIONS</th>\n",
       "      <th>STATE</th>\n",
       "      <th>Temp</th>\n",
       "      <th>DO</th>\n",
       "      <th>PH</th>\n",
       "      <th>CONDUCTIVITY</th>\n",
       "      <th>BOD</th>\n",
       "      <th>NITRATENAN</th>\n",
       "      <th>TOTAL_COLIFORM</th>\n",
       "      <th>...</th>\n",
       "      <th>nbdo</th>\n",
       "      <th>nec</th>\n",
       "      <th>nna</th>\n",
       "      <th>wph</th>\n",
       "      <th>wdo</th>\n",
       "      <th>wbdo</th>\n",
       "      <th>wec</th>\n",
       "      <th>wna</th>\n",
       "      <th>wco</th>\n",
       "      <th>wqi</th>\n",
       "    </tr>\n",
       "  </thead>\n",
       "  <tbody>\n",
       "    <tr>\n",
       "      <th>0</th>\n",
       "      <td>1393</td>\n",
       "      <td>DAMANGANGA AT D/S OF MADHUBAN, DAMAN</td>\n",
       "      <td>DAMAN &amp; DIU</td>\n",
       "      <td>30.600000</td>\n",
       "      <td>6.7</td>\n",
       "      <td>7.5</td>\n",
       "      <td>203.0</td>\n",
       "      <td>6.940049</td>\n",
       "      <td>0.100000</td>\n",
       "      <td>27.0</td>\n",
       "      <td>...</td>\n",
       "      <td>60</td>\n",
       "      <td>60</td>\n",
       "      <td>100</td>\n",
       "      <td>16.5</td>\n",
       "      <td>28.10</td>\n",
       "      <td>14.04</td>\n",
       "      <td>0.54</td>\n",
       "      <td>2.8</td>\n",
       "      <td>22.48</td>\n",
       "      <td>84.46</td>\n",
       "    </tr>\n",
       "    <tr>\n",
       "      <th>1</th>\n",
       "      <td>1399</td>\n",
       "      <td>ZUARI AT D/S OF PT. WHERE KUMBARJRIA CANAL JOI...</td>\n",
       "      <td>GOA</td>\n",
       "      <td>29.800000</td>\n",
       "      <td>5.7</td>\n",
       "      <td>7.2</td>\n",
       "      <td>189.0</td>\n",
       "      <td>2.000000</td>\n",
       "      <td>0.200000</td>\n",
       "      <td>8391.0</td>\n",
       "      <td>...</td>\n",
       "      <td>100</td>\n",
       "      <td>60</td>\n",
       "      <td>100</td>\n",
       "      <td>16.5</td>\n",
       "      <td>22.48</td>\n",
       "      <td>23.40</td>\n",
       "      <td>0.54</td>\n",
       "      <td>2.8</td>\n",
       "      <td>11.24</td>\n",
       "      <td>76.96</td>\n",
       "    </tr>\n",
       "    <tr>\n",
       "      <th>2</th>\n",
       "      <td>1475</td>\n",
       "      <td>ZUARI AT PANCHAWADI</td>\n",
       "      <td>GOA</td>\n",
       "      <td>29.500000</td>\n",
       "      <td>6.3</td>\n",
       "      <td>6.9</td>\n",
       "      <td>179.0</td>\n",
       "      <td>1.700000</td>\n",
       "      <td>0.100000</td>\n",
       "      <td>5330.0</td>\n",
       "      <td>...</td>\n",
       "      <td>100</td>\n",
       "      <td>60</td>\n",
       "      <td>100</td>\n",
       "      <td>13.2</td>\n",
       "      <td>28.10</td>\n",
       "      <td>23.40</td>\n",
       "      <td>0.54</td>\n",
       "      <td>2.8</td>\n",
       "      <td>11.24</td>\n",
       "      <td>79.28</td>\n",
       "    </tr>\n",
       "    <tr>\n",
       "      <th>3</th>\n",
       "      <td>3181</td>\n",
       "      <td>RIVER ZUARI AT BORIM BRIDGE</td>\n",
       "      <td>GOA</td>\n",
       "      <td>29.700000</td>\n",
       "      <td>5.8</td>\n",
       "      <td>6.9</td>\n",
       "      <td>64.0</td>\n",
       "      <td>3.800000</td>\n",
       "      <td>0.500000</td>\n",
       "      <td>8443.0</td>\n",
       "      <td>...</td>\n",
       "      <td>80</td>\n",
       "      <td>100</td>\n",
       "      <td>100</td>\n",
       "      <td>13.2</td>\n",
       "      <td>22.48</td>\n",
       "      <td>18.72</td>\n",
       "      <td>0.90</td>\n",
       "      <td>2.8</td>\n",
       "      <td>11.24</td>\n",
       "      <td>69.34</td>\n",
       "    </tr>\n",
       "    <tr>\n",
       "      <th>4</th>\n",
       "      <td>3182</td>\n",
       "      <td>RIVER ZUARI AT MARCAIM JETTY</td>\n",
       "      <td>GOA</td>\n",
       "      <td>29.500000</td>\n",
       "      <td>5.8</td>\n",
       "      <td>7.3</td>\n",
       "      <td>83.0</td>\n",
       "      <td>1.900000</td>\n",
       "      <td>0.400000</td>\n",
       "      <td>5500.0</td>\n",
       "      <td>...</td>\n",
       "      <td>100</td>\n",
       "      <td>80</td>\n",
       "      <td>100</td>\n",
       "      <td>16.5</td>\n",
       "      <td>22.48</td>\n",
       "      <td>23.40</td>\n",
       "      <td>0.72</td>\n",
       "      <td>2.8</td>\n",
       "      <td>11.24</td>\n",
       "      <td>77.14</td>\n",
       "    </tr>\n",
       "    <tr>\n",
       "      <th>...</th>\n",
       "      <td>...</td>\n",
       "      <td>...</td>\n",
       "      <td>...</td>\n",
       "      <td>...</td>\n",
       "      <td>...</td>\n",
       "      <td>...</td>\n",
       "      <td>...</td>\n",
       "      <td>...</td>\n",
       "      <td>...</td>\n",
       "      <td>...</td>\n",
       "      <td>...</td>\n",
       "      <td>...</td>\n",
       "      <td>...</td>\n",
       "      <td>...</td>\n",
       "      <td>...</td>\n",
       "      <td>...</td>\n",
       "      <td>...</td>\n",
       "      <td>...</td>\n",
       "      <td>...</td>\n",
       "      <td>...</td>\n",
       "      <td>...</td>\n",
       "    </tr>\n",
       "    <tr>\n",
       "      <th>1986</th>\n",
       "      <td>1330</td>\n",
       "      <td>TAMBIRAPARANI AT ARUMUGANERI, TAMILNADU</td>\n",
       "      <td>NAN</td>\n",
       "      <td>26.209814</td>\n",
       "      <td>7.9</td>\n",
       "      <td>738.0</td>\n",
       "      <td>7.2</td>\n",
       "      <td>2.700000</td>\n",
       "      <td>0.518000</td>\n",
       "      <td>202.0</td>\n",
       "      <td>...</td>\n",
       "      <td>100</td>\n",
       "      <td>100</td>\n",
       "      <td>100</td>\n",
       "      <td>0.0</td>\n",
       "      <td>28.10</td>\n",
       "      <td>23.40</td>\n",
       "      <td>0.90</td>\n",
       "      <td>2.8</td>\n",
       "      <td>16.86</td>\n",
       "      <td>72.06</td>\n",
       "    </tr>\n",
       "    <tr>\n",
       "      <th>1987</th>\n",
       "      <td>1450</td>\n",
       "      <td>PALAR AT VANIYAMBADI WATER SUPPLY HEAD WORK, T...</td>\n",
       "      <td>NAN</td>\n",
       "      <td>29.000000</td>\n",
       "      <td>7.5</td>\n",
       "      <td>585.0</td>\n",
       "      <td>6.3</td>\n",
       "      <td>2.600000</td>\n",
       "      <td>0.155000</td>\n",
       "      <td>315.0</td>\n",
       "      <td>...</td>\n",
       "      <td>100</td>\n",
       "      <td>100</td>\n",
       "      <td>100</td>\n",
       "      <td>0.0</td>\n",
       "      <td>28.10</td>\n",
       "      <td>23.40</td>\n",
       "      <td>0.90</td>\n",
       "      <td>2.8</td>\n",
       "      <td>16.86</td>\n",
       "      <td>72.06</td>\n",
       "    </tr>\n",
       "    <tr>\n",
       "      <th>1988</th>\n",
       "      <td>1403</td>\n",
       "      <td>GUMTI AT U/S SOUTH TRIPURA,TRIPURA</td>\n",
       "      <td>NAN</td>\n",
       "      <td>28.000000</td>\n",
       "      <td>7.6</td>\n",
       "      <td>98.0</td>\n",
       "      <td>6.2</td>\n",
       "      <td>1.200000</td>\n",
       "      <td>1.623079</td>\n",
       "      <td>570.0</td>\n",
       "      <td>...</td>\n",
       "      <td>100</td>\n",
       "      <td>100</td>\n",
       "      <td>100</td>\n",
       "      <td>0.0</td>\n",
       "      <td>28.10</td>\n",
       "      <td>23.40</td>\n",
       "      <td>0.90</td>\n",
       "      <td>2.8</td>\n",
       "      <td>11.24</td>\n",
       "      <td>66.44</td>\n",
       "    </tr>\n",
       "    <tr>\n",
       "      <th>1989</th>\n",
       "      <td>1404</td>\n",
       "      <td>GUMTI AT D/S SOUTH TRIPURA, TRIPURA</td>\n",
       "      <td>NAN</td>\n",
       "      <td>28.000000</td>\n",
       "      <td>7.7</td>\n",
       "      <td>91.0</td>\n",
       "      <td>6.5</td>\n",
       "      <td>1.300000</td>\n",
       "      <td>1.623079</td>\n",
       "      <td>562.0</td>\n",
       "      <td>...</td>\n",
       "      <td>100</td>\n",
       "      <td>100</td>\n",
       "      <td>100</td>\n",
       "      <td>0.0</td>\n",
       "      <td>28.10</td>\n",
       "      <td>23.40</td>\n",
       "      <td>0.90</td>\n",
       "      <td>2.8</td>\n",
       "      <td>11.24</td>\n",
       "      <td>66.44</td>\n",
       "    </tr>\n",
       "    <tr>\n",
       "      <th>1990</th>\n",
       "      <td>1726</td>\n",
       "      <td>CHANDRAPUR, AGARTALA D/S OF HAORA RIVER, TRIPURA</td>\n",
       "      <td>NAN</td>\n",
       "      <td>29.000000</td>\n",
       "      <td>7.6</td>\n",
       "      <td>110.0</td>\n",
       "      <td>5.7</td>\n",
       "      <td>1.100000</td>\n",
       "      <td>1.623079</td>\n",
       "      <td>546.0</td>\n",
       "      <td>...</td>\n",
       "      <td>100</td>\n",
       "      <td>100</td>\n",
       "      <td>100</td>\n",
       "      <td>0.0</td>\n",
       "      <td>28.10</td>\n",
       "      <td>23.40</td>\n",
       "      <td>0.90</td>\n",
       "      <td>2.8</td>\n",
       "      <td>11.24</td>\n",
       "      <td>66.44</td>\n",
       "    </tr>\n",
       "  </tbody>\n",
       "</table>\n",
       "<p>1991 rows × 24 columns</p>\n",
       "</div>"
      ],
      "text/plain": [
       "     STATION CODE                                          LOCATIONS  \\\n",
       "0            1393               DAMANGANGA AT D/S OF MADHUBAN, DAMAN   \n",
       "1            1399  ZUARI AT D/S OF PT. WHERE KUMBARJRIA CANAL JOI...   \n",
       "2            1475                                ZUARI AT PANCHAWADI   \n",
       "3            3181                        RIVER ZUARI AT BORIM BRIDGE   \n",
       "4            3182                       RIVER ZUARI AT MARCAIM JETTY   \n",
       "...           ...                                                ...   \n",
       "1986         1330            TAMBIRAPARANI AT ARUMUGANERI, TAMILNADU   \n",
       "1987         1450  PALAR AT VANIYAMBADI WATER SUPPLY HEAD WORK, T...   \n",
       "1988         1403                 GUMTI AT U/S SOUTH TRIPURA,TRIPURA   \n",
       "1989         1404                GUMTI AT D/S SOUTH TRIPURA, TRIPURA   \n",
       "1990         1726   CHANDRAPUR, AGARTALA D/S OF HAORA RIVER, TRIPURA   \n",
       "\n",
       "            STATE       Temp   DO     PH  CONDUCTIVITY       BOD  NITRATENAN  \\\n",
       "0     DAMAN & DIU  30.600000  6.7    7.5         203.0  6.940049    0.100000   \n",
       "1             GOA  29.800000  5.7    7.2         189.0  2.000000    0.200000   \n",
       "2             GOA  29.500000  6.3    6.9         179.0  1.700000    0.100000   \n",
       "3             GOA  29.700000  5.8    6.9          64.0  3.800000    0.500000   \n",
       "4             GOA  29.500000  5.8    7.3          83.0  1.900000    0.400000   \n",
       "...           ...        ...  ...    ...           ...       ...         ...   \n",
       "1986          NAN  26.209814  7.9  738.0           7.2  2.700000    0.518000   \n",
       "1987          NAN  29.000000  7.5  585.0           6.3  2.600000    0.155000   \n",
       "1988          NAN  28.000000  7.6   98.0           6.2  1.200000    1.623079   \n",
       "1989          NAN  28.000000  7.7   91.0           6.5  1.300000    1.623079   \n",
       "1990          NAN  29.000000  7.6  110.0           5.7  1.100000    1.623079   \n",
       "\n",
       "      TOTAL_COLIFORM  ...  nbdo  nec  nna   wph    wdo   wbdo   wec  wna  \\\n",
       "0               27.0  ...    60   60  100  16.5  28.10  14.04  0.54  2.8   \n",
       "1             8391.0  ...   100   60  100  16.5  22.48  23.40  0.54  2.8   \n",
       "2             5330.0  ...   100   60  100  13.2  28.10  23.40  0.54  2.8   \n",
       "3             8443.0  ...    80  100  100  13.2  22.48  18.72  0.90  2.8   \n",
       "4             5500.0  ...   100   80  100  16.5  22.48  23.40  0.72  2.8   \n",
       "...              ...  ...   ...  ...  ...   ...    ...    ...   ...  ...   \n",
       "1986           202.0  ...   100  100  100   0.0  28.10  23.40  0.90  2.8   \n",
       "1987           315.0  ...   100  100  100   0.0  28.10  23.40  0.90  2.8   \n",
       "1988           570.0  ...   100  100  100   0.0  28.10  23.40  0.90  2.8   \n",
       "1989           562.0  ...   100  100  100   0.0  28.10  23.40  0.90  2.8   \n",
       "1990           546.0  ...   100  100  100   0.0  28.10  23.40  0.90  2.8   \n",
       "\n",
       "        wco    wqi  \n",
       "0     22.48  84.46  \n",
       "1     11.24  76.96  \n",
       "2     11.24  79.28  \n",
       "3     11.24  69.34  \n",
       "4     11.24  77.14  \n",
       "...     ...    ...  \n",
       "1986  16.86  72.06  \n",
       "1987  16.86  72.06  \n",
       "1988  11.24  66.44  \n",
       "1989  11.24  66.44  \n",
       "1990  11.24  66.44  \n",
       "\n",
       "[1991 rows x 24 columns]"
      ]
     },
     "execution_count": 21,
     "metadata": {},
     "output_type": "execute_result"
    }
   ],
   "source": [
    "data['wph']=data.npH * 0.165 \n",
    "data['wdo']=data.ndo * 0.281 \n",
    "data[ 'wbdo']=data.nbdo * 0.234 \n",
    "data[ 'wec']=data.nec* 0.009 \n",
    "data['wna']=data.nna * 0.028 \n",
    "data['wco']=data.nco * 0.281 \n",
    "data[ 'wqi']=data.wph+data.wdo+data.wbdo+data.wec+data.wna+data.wco \n",
    "data"
   ]
  },
  {
   "cell_type": "code",
   "execution_count": 22,
   "id": "1ce44a4e",
   "metadata": {},
   "outputs": [],
   "source": [
    "average=data.groupby('year')['wqi'].mean()"
   ]
  },
  {
   "cell_type": "code",
   "execution_count": 23,
   "id": "39cbd1c9",
   "metadata": {},
   "outputs": [],
   "source": [
    "data.drop(['STATION CODE','LOCATIONS','STATE'],axis=1,inplace=True)"
   ]
  },
  {
   "cell_type": "code",
   "execution_count": 24,
   "id": "e68cfa6d",
   "metadata": {},
   "outputs": [
    {
     "data": {
      "text/plain": [
       "year\n",
       "2003    66.239545\n",
       "2004    61.290000\n",
       "2005    73.762689\n",
       "2006    72.909714\n",
       "2007    74.233000\n",
       "Name: wqi, dtype: float64"
      ]
     },
     "execution_count": 24,
     "metadata": {},
     "output_type": "execute_result"
    }
   ],
   "source": [
    "average.head()"
   ]
  },
  {
   "cell_type": "code",
   "execution_count": 25,
   "id": "98dae510",
   "metadata": {},
   "outputs": [],
   "source": [
    "x=data[['Temp','DO','PH','CONDUCTIVITY','BOD','NITRATENAN','TOTAL_COLIFORM']]"
   ]
  },
  {
   "cell_type": "code",
   "execution_count": 26,
   "id": "1dc9e544",
   "metadata": {},
   "outputs": [],
   "source": [
    "y=data.wqi"
   ]
  },
  {
   "cell_type": "code",
   "execution_count": 27,
   "id": "af31f1fd",
   "metadata": {},
   "outputs": [
    {
     "data": {
      "text/html": [
       "<div>\n",
       "<style scoped>\n",
       "    .dataframe tbody tr th:only-of-type {\n",
       "        vertical-align: middle;\n",
       "    }\n",
       "\n",
       "    .dataframe tbody tr th {\n",
       "        vertical-align: top;\n",
       "    }\n",
       "\n",
       "    .dataframe thead th {\n",
       "        text-align: right;\n",
       "    }\n",
       "</style>\n",
       "<table border=\"1\" class=\"dataframe\">\n",
       "  <thead>\n",
       "    <tr style=\"text-align: right;\">\n",
       "      <th></th>\n",
       "      <th>Temp</th>\n",
       "      <th>DO</th>\n",
       "      <th>PH</th>\n",
       "      <th>CONDUCTIVITY</th>\n",
       "      <th>BOD</th>\n",
       "      <th>NITRATENAN</th>\n",
       "      <th>TOTAL_COLIFORM</th>\n",
       "    </tr>\n",
       "  </thead>\n",
       "  <tbody>\n",
       "    <tr>\n",
       "      <th>0</th>\n",
       "      <td>30.6</td>\n",
       "      <td>6.7</td>\n",
       "      <td>7.5</td>\n",
       "      <td>203.0</td>\n",
       "      <td>6.940049</td>\n",
       "      <td>0.1</td>\n",
       "      <td>27.0</td>\n",
       "    </tr>\n",
       "    <tr>\n",
       "      <th>1</th>\n",
       "      <td>29.8</td>\n",
       "      <td>5.7</td>\n",
       "      <td>7.2</td>\n",
       "      <td>189.0</td>\n",
       "      <td>2.000000</td>\n",
       "      <td>0.2</td>\n",
       "      <td>8391.0</td>\n",
       "    </tr>\n",
       "    <tr>\n",
       "      <th>2</th>\n",
       "      <td>29.5</td>\n",
       "      <td>6.3</td>\n",
       "      <td>6.9</td>\n",
       "      <td>179.0</td>\n",
       "      <td>1.700000</td>\n",
       "      <td>0.1</td>\n",
       "      <td>5330.0</td>\n",
       "    </tr>\n",
       "    <tr>\n",
       "      <th>3</th>\n",
       "      <td>29.7</td>\n",
       "      <td>5.8</td>\n",
       "      <td>6.9</td>\n",
       "      <td>64.0</td>\n",
       "      <td>3.800000</td>\n",
       "      <td>0.5</td>\n",
       "      <td>8443.0</td>\n",
       "    </tr>\n",
       "    <tr>\n",
       "      <th>4</th>\n",
       "      <td>29.5</td>\n",
       "      <td>5.8</td>\n",
       "      <td>7.3</td>\n",
       "      <td>83.0</td>\n",
       "      <td>1.900000</td>\n",
       "      <td>0.4</td>\n",
       "      <td>5500.0</td>\n",
       "    </tr>\n",
       "    <tr>\n",
       "      <th>5</th>\n",
       "      <td>30.0</td>\n",
       "      <td>5.5</td>\n",
       "      <td>7.4</td>\n",
       "      <td>81.0</td>\n",
       "      <td>1.500000</td>\n",
       "      <td>0.1</td>\n",
       "      <td>4049.0</td>\n",
       "    </tr>\n",
       "    <tr>\n",
       "      <th>6</th>\n",
       "      <td>29.2</td>\n",
       "      <td>6.1</td>\n",
       "      <td>6.7</td>\n",
       "      <td>308.0</td>\n",
       "      <td>1.400000</td>\n",
       "      <td>0.3</td>\n",
       "      <td>5672.0</td>\n",
       "    </tr>\n",
       "    <tr>\n",
       "      <th>7</th>\n",
       "      <td>29.6</td>\n",
       "      <td>6.4</td>\n",
       "      <td>6.7</td>\n",
       "      <td>414.0</td>\n",
       "      <td>1.000000</td>\n",
       "      <td>0.2</td>\n",
       "      <td>9423.0</td>\n",
       "    </tr>\n",
       "    <tr>\n",
       "      <th>8</th>\n",
       "      <td>30.0</td>\n",
       "      <td>6.4</td>\n",
       "      <td>7.6</td>\n",
       "      <td>305.0</td>\n",
       "      <td>2.200000</td>\n",
       "      <td>0.1</td>\n",
       "      <td>4990.0</td>\n",
       "    </tr>\n",
       "    <tr>\n",
       "      <th>9</th>\n",
       "      <td>30.1</td>\n",
       "      <td>6.3</td>\n",
       "      <td>7.6</td>\n",
       "      <td>77.0</td>\n",
       "      <td>2.300000</td>\n",
       "      <td>0.1</td>\n",
       "      <td>4301.0</td>\n",
       "    </tr>\n",
       "  </tbody>\n",
       "</table>\n",
       "</div>"
      ],
      "text/plain": [
       "   Temp   DO   PH  CONDUCTIVITY       BOD  NITRATENAN  TOTAL_COLIFORM\n",
       "0  30.6  6.7  7.5         203.0  6.940049         0.1            27.0\n",
       "1  29.8  5.7  7.2         189.0  2.000000         0.2          8391.0\n",
       "2  29.5  6.3  6.9         179.0  1.700000         0.1          5330.0\n",
       "3  29.7  5.8  6.9          64.0  3.800000         0.5          8443.0\n",
       "4  29.5  5.8  7.3          83.0  1.900000         0.4          5500.0\n",
       "5  30.0  5.5  7.4          81.0  1.500000         0.1          4049.0\n",
       "6  29.2  6.1  6.7         308.0  1.400000         0.3          5672.0\n",
       "7  29.6  6.4  6.7         414.0  1.000000         0.2          9423.0\n",
       "8  30.0  6.4  7.6         305.0  2.200000         0.1          4990.0\n",
       "9  30.1  6.3  7.6          77.0  2.300000         0.1          4301.0"
      ]
     },
     "execution_count": 27,
     "metadata": {},
     "output_type": "execute_result"
    }
   ],
   "source": [
    "x.head(10)"
   ]
  },
  {
   "cell_type": "code",
   "execution_count": 28,
   "id": "5fa5c616",
   "metadata": {},
   "outputs": [
    {
     "data": {
      "text/plain": [
       "0    84.46\n",
       "1    76.96\n",
       "2    79.28\n",
       "3    69.34\n",
       "4    77.14\n",
       "5    77.14\n",
       "6    75.44\n",
       "7    75.44\n",
       "8    82.04\n",
       "9    82.76\n",
       "Name: wqi, dtype: float64"
      ]
     },
     "execution_count": 28,
     "metadata": {},
     "output_type": "execute_result"
    }
   ],
   "source": [
    "y.head(10)"
   ]
  },
  {
   "cell_type": "markdown",
   "id": "e25c1ad4",
   "metadata": {},
   "source": [
    "<h3>Model Building</h3>"
   ]
  },
  {
   "cell_type": "code",
   "execution_count": 29,
   "id": "c6ee362d",
   "metadata": {},
   "outputs": [],
   "source": [
    "x_train,x_test,y_train,y_test= train_test_split(x,y,train_size = 0.8, test_size = 0.2,random_state =42)"
   ]
  },
  {
   "cell_type": "markdown",
   "id": "606621f1",
   "metadata": {},
   "source": [
    "<h3>HYPERPARAMETER TUNING</h3>"
   ]
  },
  {
   "cell_type": "code",
   "execution_count": 37,
   "id": "44d76931",
   "metadata": {},
   "outputs": [],
   "source": [
    "from sklearn.model_selection import GridSearchCV\n",
    "\n",
    "xgb1 = XGBRegressor()\n",
    "parameters = {'nthread':[4], #when use hyperthread, xgboost may become slower\n",
    "              'objective':['reg:linear'],\n",
    "              'learning_rate': [.03, 0.05, .07], #so called `eta` value\n",
    "              'max_depth': [5, 6, 7],\n",
    "              'min_child_weight': [4],\n",
    "              'silent': [1],\n",
    "              'subsample': [0.7],\n",
    "              'colsample_bytree': [0.7],\n",
    "              'n_estimators': [500]}"
   ]
  },
  {
   "cell_type": "code",
   "execution_count": 38,
   "id": "06666a03",
   "metadata": {},
   "outputs": [],
   "source": [
    "xgb_grid = GridSearchCV(xgb1,\n",
    "                        parameters,\n",
    "                        cv = 2,\n",
    "                        n_jobs = 5,\n",
    "                        verbose=True)\n"
   ]
  },
  {
   "cell_type": "code",
   "execution_count": 39,
   "id": "66cfec41",
   "metadata": {},
   "outputs": [
    {
     "name": "stdout",
     "output_type": "stream",
     "text": [
      "Fitting 2 folds for each of 9 candidates, totalling 18 fits\n",
      "[18:42:45] WARNING: c:\\windows\\temp\\abs_557yfx631l\\croots\\recipe\\xgboost-split_1659548953302\\work\\src\\objective\\regression_obj.cu:188: reg:linear is now deprecated in favor of reg:squarederror.\n",
      "[18:42:45] WARNING: C:\\Windows\\Temp\\abs_557yfx631l\\croots\\recipe\\xgboost-split_1659548953302\\work\\src\\learner.cc:576: \n",
      "Parameters: { \"silent\" } might not be used.\n",
      "\n",
      "  This could be a false alarm, with some parameters getting used by language bindings but\n",
      "  then being mistakenly passed down to XGBoost core, or some parameter actually being used\n",
      "  but getting flagged wrongly here. Please open an issue if you find any such cases.\n",
      "\n",
      "\n"
     ]
    },
    {
     "data": {
      "text/plain": [
       "GridSearchCV(cv=2,\n",
       "             estimator=XGBRegressor(base_score=None, booster=None,\n",
       "                                    colsample_bylevel=None,\n",
       "                                    colsample_bynode=None,\n",
       "                                    colsample_bytree=None,\n",
       "                                    enable_categorical=False, gamma=None,\n",
       "                                    gpu_id=None, importance_type=None,\n",
       "                                    interaction_constraints=None,\n",
       "                                    learning_rate=None, max_delta_step=None,\n",
       "                                    max_depth=None, min_child_weight=None,\n",
       "                                    missing=nan, monotone_constraints=None,\n",
       "                                    n...\n",
       "                                    random_state=None, reg_alpha=None,\n",
       "                                    reg_lambda=None, scale_pos_weight=None,\n",
       "                                    subsample=None, tree_method=None,\n",
       "                                    validate_parameters=None, verbosity=None),\n",
       "             n_jobs=5,\n",
       "             param_grid={'colsample_bytree': [0.7],\n",
       "                         'learning_rate': [0.03, 0.05, 0.07],\n",
       "                         'max_depth': [5, 6, 7], 'min_child_weight': [4],\n",
       "                         'n_estimators': [500], 'nthread': [4],\n",
       "                         'objective': ['reg:linear'], 'silent': [1],\n",
       "                         'subsample': [0.7]},\n",
       "             verbose=True)"
      ]
     },
     "execution_count": 39,
     "metadata": {},
     "output_type": "execute_result"
    }
   ],
   "source": [
    "xgb_grid.fit(x_train,y_train)\n",
    "\n"
   ]
  },
  {
   "cell_type": "code",
   "execution_count": 40,
   "id": "79e48c4d",
   "metadata": {},
   "outputs": [
    {
     "name": "stdout",
     "output_type": "stream",
     "text": [
      "0.9897951427954113\n",
      "{'colsample_bytree': 0.7, 'learning_rate': 0.07, 'max_depth': 5, 'min_child_weight': 4, 'n_estimators': 500, 'nthread': 4, 'objective': 'reg:linear', 'silent': 1, 'subsample': 0.7}\n"
     ]
    }
   ],
   "source": [
    "print(xgb_grid.best_score_)\n",
    "print(xgb_grid.best_params_)\n"
   ]
  },
  {
   "cell_type": "code",
   "execution_count": 44,
   "id": "15d01e41",
   "metadata": {},
   "outputs": [
    {
     "name": "stderr",
     "output_type": "stream",
     "text": [
      "D:\\anaconda\\lib\\site-packages\\xgboost\\data.py:250: FutureWarning: pandas.Int64Index is deprecated and will be removed from pandas in a future version. Use pandas.Index with the appropriate dtype instead.\n",
      "  elif isinstance(data.columns, (pd.Int64Index, pd.RangeIndex)):\n"
     ]
    },
    {
     "name": "stdout",
     "output_type": "stream",
     "text": [
      "[18:45:50] WARNING: c:\\windows\\temp\\abs_557yfx631l\\croots\\recipe\\xgboost-split_1659548953302\\work\\src\\objective\\regression_obj.cu:188: reg:linear is now deprecated in favor of reg:squarederror.\n",
      "[18:45:50] WARNING: C:\\Windows\\Temp\\abs_557yfx631l\\croots\\recipe\\xgboost-split_1659548953302\\work\\src\\learner.cc:576: \n",
      "Parameters: { \"silent\" } might not be used.\n",
      "\n",
      "  This could be a false alarm, with some parameters getting used by language bindings but\n",
      "  then being mistakenly passed down to XGBoost core, or some parameter actually being used\n",
      "  but getting flagged wrongly here. Please open an issue if you find any such cases.\n",
      "\n",
      "\n"
     ]
    },
    {
     "data": {
      "text/plain": [
       "0.9843692232852016"
      ]
     },
     "execution_count": 44,
     "metadata": {},
     "output_type": "execute_result"
    }
   ],
   "source": [
    "model = XGBRegressor(colsample_bytree= 0.7, learning_rate= 0.07, max_depth=5, min_child_weight= 4, n_estimators= 500, nthread= 4,objective= 'reg:linear' ,silent= 1, subsample= 0.7).fit(x_train, y_train)\n",
    "model.score(x_test,y_test)"
   ]
  },
  {
   "cell_type": "code",
   "execution_count": 46,
   "id": "e3473411",
   "metadata": {},
   "outputs": [
    {
     "data": {
      "text/plain": [
       "0.9998433552264793"
      ]
     },
     "execution_count": 46,
     "metadata": {},
     "output_type": "execute_result"
    }
   ],
   "source": [
    "y_pred=model.predict(x_test)\n",
    "model.score(x_train,y_train)"
   ]
  },
  {
   "cell_type": "markdown",
   "id": "36ea1098",
   "metadata": {},
   "source": [
    "<h3>Model Evaluation</h3>"
   ]
  },
  {
   "cell_type": "code",
   "execution_count": 48,
   "id": "571a3420",
   "metadata": {},
   "outputs": [
    {
     "name": "stdout",
     "output_type": "stream",
     "text": [
      "MAE: 0.5638007431221487\n",
      "MSE: 2.994258691391396\n",
      "RMSE: 1.7303926408163541\n"
     ]
    }
   ],
   "source": [
    "from sklearn import metrics \n",
    "print(\"MAE:\", metrics.mean_absolute_error(y_test, y_pred)) \n",
    "print('MSE:', metrics.mean_squared_error(y_test, y_pred)) \n",
    "print('RMSE:', np.sqrt(metrics.mean_squared_error(y_test, y_pred)))"
   ]
  },
  {
   "cell_type": "markdown",
   "id": "3762d1c5",
   "metadata": {},
   "source": [
    "<h3>Saving the model</h3>"
   ]
  },
  {
   "cell_type": "code",
   "execution_count": 50,
   "id": "2ff63687",
   "metadata": {},
   "outputs": [],
   "source": [
    "import pickle\n",
    "pickle.dump(model, open('wqi.pkl','wb')) \n",
    "model = pickle.load(open('wqi.pkl','rb'))"
   ]
  },
  {
   "cell_type": "code",
   "execution_count": null,
   "id": "42ed722c",
   "metadata": {},
   "outputs": [],
   "source": []
  },
  {
   "cell_type": "code",
   "execution_count": null,
   "id": "fc541224",
   "metadata": {},
   "outputs": [],
   "source": []
  }
 ],
 "metadata": {
  "kernelspec": {
   "display_name": "Python 3 (ipykernel)",
   "language": "python",
   "name": "python3"
  },
  "language_info": {
   "codemirror_mode": {
    "name": "ipython",
    "version": 3
   },
   "file_extension": ".py",
   "mimetype": "text/x-python",
   "name": "python",
   "nbconvert_exporter": "python",
   "pygments_lexer": "ipython3",
   "version": "3.9.12"
  }
 },
 "nbformat": 4,
 "nbformat_minor": 5
}
